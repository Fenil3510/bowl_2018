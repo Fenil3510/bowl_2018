{
 "cells": [
  {
   "cell_type": "code",
   "execution_count": null,
   "metadata": {
    "_cell_guid": "9c8e67be-4183-4c05-b9bf-23bb056beb30",
    "_uuid": "7f7c26f1ed78dd5849da2703d05bac19372780af",
    "collapsed": true
   },
   "outputs": [],
   "source": [
    "# This Python 3 environment comes with many helpful analytics libraries installed\n",
    "# It is defined by the kaggle/python docker image: https://github.com/kaggle/docker-python\n",
    "# For example, here's several helpful packages to load in \n",
    "\n",
    "import numpy as np # linear algebra\n",
    "import pandas as pd # data processing, CSV file I/O (e.g. pd.read_csv)\n",
    "import cv2\n",
    "from scipy import ndimage\n",
    "from skimage.morphology import label\n",
    "from keras.callbacks import EarlyStopping, ModelCheckpoint\n",
    "# Input data files are available in the \"../input/\" directory.\n",
    "#Simple CNN keras\n",
    "from keras.layers import Lambda\n",
    "from keras.models import Model , load_model\n",
    "from keras.models import Sequential\n",
    "from keras.layers import concatenate\n",
    "from keras.layers import Input\n",
    "from keras.layers import Dense, Dropout, Flatten\n",
    "from keras.layers import Conv2D, MaxPooling2D \n",
    "from keras.losses import binary_crossentropy\n",
    "from keras.losses import categorical_crossentropy\n",
    "from keras.optimizers import Adam\n",
    "from sklearn.preprocessing import OneHotEncoder\n",
    "from keras.layers import Conv2DTranspose\n",
    "from keras import backend as K\n",
    "\n",
    "import tensorflow as tf\n",
    "# For example, running this (by clicking run or pressing Shift+Enter) will list the files in the input directory\n",
    "import matplotlib.pyplot as plt\n",
    "from subprocess import check_output\n",
    "import os\n",
    "print(check_output([\"ls\", \"../input\"]).decode(\"utf8\"))\n",
    "from skimage.transform import rescale, resize, downscale_local_mean\n",
    "import tensorflow as tf\n",
    "# Any results you write to the current directory are saved as output."
   ]
  },
  {
   "cell_type": "code",
   "execution_count": null,
   "metadata": {
    "_cell_guid": "33376aae-67df-499d-b98b-d3414fb39da0",
    "_uuid": "77e258d3990316fb428a180fdccff02b0a7859aa",
    "collapsed": true
   },
   "outputs": [],
   "source": [
    "train_dir = \"../input/stage1_train/\""
   ]
  },
  {
   "cell_type": "code",
   "execution_count": null,
   "metadata": {
    "_cell_guid": "05485885-525a-41aa-9264-8aa8f290ec81",
    "_uuid": "dba5c8c48229f035a36fcab338c4f082f739b4d9",
    "collapsed": true
   },
   "outputs": [],
   "source": [
    "train_images = [i for i in os.listdir(train_dir)]"
   ]
  },
  {
   "cell_type": "code",
   "execution_count": null,
   "metadata": {
    "_cell_guid": "346f2864-7592-4a0c-afe3-77c88e4e15b5",
    "_uuid": "26d6777ebb5d9d2a4970d13c1c99fb61ccc7b8f5",
    "collapsed": true
   },
   "outputs": [],
   "source": [
    "final_images = []\n",
    "\n",
    "for dirs in train_images:\n",
    "    final_images.append(plt.imread(train_dir + dirs + '/' + 'images/' + dirs+ '.png'))\n",
    "\n",
    "    "
   ]
  },
  {
   "cell_type": "code",
   "execution_count": null,
   "metadata": {
    "_cell_guid": "d0b90e34-3037-427a-9cc5-fc60ba9381d1",
    "_uuid": "7c06890ae286d3156c5531613e2803ba26976883",
    "collapsed": true
   },
   "outputs": [],
   "source": [
    "label_masks = []\n",
    "for dirs in train_images:\n",
    "    for i,img in enumerate(os.listdir(train_dir + dirs + \"/\" + \"masks/\")):\n",
    "        if i == 0:\n",
    "            maximum = plt.imread(train_dir + dirs + \"/\" + \"masks/\" + img)\n",
    "            #time_pass = plt.imread(train_dir + dirs + \"/\" + \"masks/\" + img)\n",
    "        else:\n",
    "            image = plt.imread(train_dir + dirs + \"/\" + \"masks/\" + img)\n",
    "            maximum = np.maximum(maximum,image)\n",
    "            #print(maximum.shape)\n",
    "    label_masks.append(maximum)"
   ]
  },
  {
   "cell_type": "code",
   "execution_count": null,
   "metadata": {
    "_cell_guid": "9d883cdc-d2c9-4a6c-a362-198aa52c92ce",
    "_uuid": "ee88b19399f1b4ce959da3bc48507a571fef594c",
    "collapsed": true
   },
   "outputs": [],
   "source": [
    "label_masks = np.array(label_masks)"
   ]
  },
  {
   "cell_type": "code",
   "execution_count": null,
   "metadata": {
    "_cell_guid": "31f9ac8e-2de7-4ec6-bac7-a1e84f4f11d3",
    "_uuid": "510edb587400d9c9c6d22c5ddeb8fa50bd7f94d6",
    "collapsed": true
   },
   "outputs": [],
   "source": [
    "final_images = np.array(final_images)"
   ]
  },
  {
   "cell_type": "code",
   "execution_count": null,
   "metadata": {
    "_cell_guid": "275f02f5-445b-4cac-a83d-e0c751a44bd0",
    "_uuid": "4e5c8efc0c5a2a5ba6be35af466ec06df67b85cd",
    "collapsed": true
   },
   "outputs": [],
   "source": [
    "plt.figure(1.,figsize = (10,10))\n",
    "#plt.subplot(2,1,1)\n",
    "#plt.imshow(label_masks[20])\n",
    "plt.subplot(2,1,1) \n",
    "plt.imshow(final_images[20])"
   ]
  },
  {
   "cell_type": "code",
   "execution_count": null,
   "metadata": {
    "_cell_guid": "29f20696-ea4d-4ee3-80fe-e9fc552fb119",
    "_uuid": "d8e29e44357c2a1e25256841d36587e804bafa25",
    "collapsed": true
   },
   "outputs": [],
   "source": [
    "label_masks[20].shape"
   ]
  },
  {
   "cell_type": "code",
   "execution_count": null,
   "metadata": {
    "_cell_guid": "f77352c8-7739-45a4-9c29-5d6368cd6332",
    "_uuid": "9793cba1bf0faa8c04157d7b64f0db3fdb82ac37",
    "collapsed": true
   },
   "outputs": [],
   "source": [
    "plt.figure(1)\n",
    "plt.subplot(2,1,1)\n",
    "plt.imshow(label_masks[10])\n",
    "plt.subplot(2,1,2) \n",
    "plt.imshow(final_images[10])"
   ]
  },
  {
   "cell_type": "code",
   "execution_count": null,
   "metadata": {
    "_cell_guid": "ee3c6e0a-d6e5-4414-8488-8945a1308eb1",
    "_uuid": "6f76d04c174331b661057006d1218c5289f33e7c",
    "collapsed": true
   },
   "outputs": [],
   "source": [
    "labels, nlabels = ndimage.label(label_masks[2])"
   ]
  },
  {
   "cell_type": "code",
   "execution_count": null,
   "metadata": {
    "_cell_guid": "92c887c6-cd7d-4bc4-95a2-a3672dbce4f8",
    "_uuid": "399edf2e142946d01f7cc1c2c3eb72aeb1f1fc13",
    "collapsed": true
   },
   "outputs": [],
   "source": [
    "plt.figure(1,figsize = (10,10))\n",
    "plt.subplot(2,1,1)\n",
    "plt.imshow(labels)\n",
    "plt.subplot(2,1,2)\n",
    "plt.imshow(label_masks[2])"
   ]
  },
  {
   "cell_type": "code",
   "execution_count": null,
   "metadata": {
    "_cell_guid": "daa48a9f-9c15-4b9b-9f25-90c2d9508ca8",
    "_uuid": "eddcd265af6e1a2476c442f1953a00e181a346dd",
    "collapsed": true
   },
   "outputs": [],
   "source": [
    "#Sanity check\n",
    "for i in range(len(label_masks)):\n",
    "    if label_masks[i].shape != final_images[i].shape:\n",
    "        #print(label_masks[i].shape)\n",
    "        continue\n",
    "    else:\n",
    "        print('no')\n",
    "        break\n",
    "    "
   ]
  },
  {
   "cell_type": "code",
   "execution_count": null,
   "metadata": {
    "_cell_guid": "c6c3851e-fb97-4fc4-bf3b-8b79a8a14c33",
    "_uuid": "7d1e28026ca8fcda979696c07b3dbb43397f64af",
    "collapsed": true
   },
   "outputs": [],
   "source": [
    "#sanity\n",
    "for i,dirs in enumerate(train_images):\n",
    "        if (len(np.unique(label_masks[i]))-1) == len(os.listdir(train_dir + dirs + \"/\" + \"masks/\")):\n",
    "            #print(len(np.unique(label_masks[i])))\n",
    "            #print(len(os.listdir(train_dir + dirs + \"/\" + \"masks/\")))\n",
    "            continue\n",
    "        else:\n",
    "            print(\"no\")\n",
    "            break"
   ]
  },
  {
   "cell_type": "code",
   "execution_count": null,
   "metadata": {
    "_cell_guid": "6f827c68-9d83-4b3f-aeb4-441982534d6a",
    "_uuid": "2f6b161d5e3284458ea26c18a9741264788e5129",
    "collapsed": true
   },
   "outputs": [],
   "source": [
    "len(label_masks)"
   ]
  },
  {
   "cell_type": "code",
   "execution_count": null,
   "metadata": {
    "_cell_guid": "983810fa-6399-490b-a825-29ecfdfe238e",
    "_uuid": "16437f3799f47e8d596d6ccb45fd391e66a7675a",
    "collapsed": true
   },
   "outputs": [],
   "source": [
    "print(final_images[1].shape)\n",
    "print(label_masks.shape)"
   ]
  },
  {
   "cell_type": "code",
   "execution_count": null,
   "metadata": {
    "_cell_guid": "f500c8cd-dea8-40ad-a578-b4d83dace44b",
    "_uuid": "57b5aabf08ec5db62b7c5c3a8895ef222ec69723",
    "collapsed": true
   },
   "outputs": [],
   "source": [
    "for  i in range(len(label_masks)):\n",
    "    final_images[i] = resize(final_images[i] , (128,128,4) , preserve_range=True)\n",
    "    label_masks[i] = resize(label_masks[i] , (128,128,1) , preserve_range=True)\n",
    "        "
   ]
  },
  {
   "cell_type": "code",
   "execution_count": null,
   "metadata": {
    "_cell_guid": "32ab6306-88f0-4254-aa17-e72bdb63aa6d",
    "_uuid": "94fab3890acd9e2706c53a29b7902ff88ab7d479",
    "collapsed": true
   },
   "outputs": [],
   "source": [
    "print(final_images.shape)\n",
    "print(label_masks.shape)   "
   ]
  },
  {
   "cell_type": "code",
   "execution_count": null,
   "metadata": {
    "_cell_guid": "0475df7b-8587-4880-9794-7cdadda655c0",
    "_uuid": "fb0b495aa84d340ca782a898f8b0e9331dd00faa",
    "collapsed": true
   },
   "outputs": [],
   "source": [
    "final_images = np.stack(final_images)"
   ]
  },
  {
   "cell_type": "code",
   "execution_count": null,
   "metadata": {
    "_cell_guid": "50ce7116-a898-44be-8cc0-8b59e8896709",
    "_uuid": "a6f02f4dbb725b2ef8888d5517653a82ea48b82f",
    "collapsed": true
   },
   "outputs": [],
   "source": [
    "label_masks = np.stack(label_masks)"
   ]
  },
  {
   "cell_type": "code",
   "execution_count": null,
   "metadata": {
    "_cell_guid": "06d1b58f-fd58-42e2-859d-1896e6b00616",
    "_uuid": "dde0a9033bcb5738dddcb866e271810d9e13717d",
    "collapsed": true
   },
   "outputs": [],
   "source": [
    "print(final_images.shape)\n",
    "print(label_masks.shape)"
   ]
  },
  {
   "cell_type": "code",
   "execution_count": null,
   "metadata": {
    "_cell_guid": "1d1c8e8f-ec8e-49ae-959b-eb8f0048c13c",
    "_uuid": "3229ae7761c6738dcd0cf762584f55c7f4106a46",
    "collapsed": true
   },
   "outputs": [],
   "source": [
    "plt.figure(1 ,figsize = (5,5))\n",
    "plt.subplot(2,1,1)\n",
    "plt.imshow(np.squeeze(label_masks[10]))\n",
    "plt.subplot(2,1,2) \n",
    "plt.imshow(final_images[10])"
   ]
  },
  {
   "cell_type": "code",
   "execution_count": null,
   "metadata": {
    "_cell_guid": "9451cc29-ae82-414c-8161-4c0aff286a51",
    "_uuid": "c1dab35ff8a3a31abd0aa7805a0a8aa6ebf23413",
    "collapsed": true
   },
   "outputs": [],
   "source": [
    "for i in range(len(label_masks)):\n",
    "    label_masks[i][label_masks[i] > 0] = 1\n",
    "    label_masks[i][label_masks[i]<=0] = 0"
   ]
  },
  {
   "cell_type": "code",
   "execution_count": null,
   "metadata": {
    "_cell_guid": "3e69a6d2-3e0a-4be3-acb2-43067b3869a0",
    "_uuid": "cd92ed0e98a90731ce6655e55af955160f2f6809",
    "collapsed": true
   },
   "outputs": [],
   "source": [
    "plt.figure(1 ,figsize = (20,20))\n",
    "plt.subplot(2,1,1)\n",
    "plt.imshow(np.squeeze(label_masks[20]))\n",
    "plt.subplot(2,1,2) \n",
    "plt.imshow(final_images[20])"
   ]
  },
  {
   "cell_type": "code",
   "execution_count": null,
   "metadata": {
    "_cell_guid": "26fbac9e-89af-4c0e-8bdc-0fca05bc71ea",
    "_uuid": "5cd99a74fd656c71df9eaa7a7a6540e38937793a",
    "collapsed": true
   },
   "outputs": [],
   "source": [
    "def iou_metric(y_true_in, y_pred_in, print_table=False):\n",
    "    labels = label(y_true_in > 0.5)\n",
    "    y_pred = label(y_pred_in > 0.5)\n",
    "    \n",
    "    true_objects = len(np.unique(labels))\n",
    "    pred_objects = len(np.unique(y_pred))\n",
    "\n",
    "    intersection = np.histogram2d(labels.flatten(), y_pred.flatten(), bins=(true_objects, pred_objects))[0]\n",
    "\n",
    "    # Compute areas (needed for finding the union between all objects)\n",
    "    area_true = np.histogram(labels, bins = true_objects)[0]\n",
    "    area_pred = np.histogram(y_pred, bins = pred_objects)[0]\n",
    "    area_true = np.expand_dims(area_true, -1)\n",
    "    area_pred = np.expand_dims(area_pred, 0)\n",
    "\n",
    "    # Compute union\n",
    "    union = area_true + area_pred - intersection\n",
    "\n",
    "    # Exclude background from the analysis\n",
    "    intersection = intersection[1:,1:]\n",
    "    union = union[1:,1:]\n",
    "    union[union == 0] = 1e-9\n",
    "\n",
    "    # Compute the intersection over union\n",
    "    iou = intersection / union\n",
    "\n",
    "    # Precision helper function\n",
    "    def precision_at(threshold, iou):\n",
    "        matches = iou > threshold\n",
    "        true_positives = np.sum(matches, axis=1) == 1   # Correct objects\n",
    "        false_positives = np.sum(matches, axis=0) == 0  # Missed objects\n",
    "        false_negatives = np.sum(matches, axis=1) == 0  # Extra objects\n",
    "        tp, fp, fn = np.sum(true_positives), np.sum(false_positives), np.sum(false_negatives)\n",
    "        return tp, fp, fn\n",
    "\n",
    "    # Loop over IoU thresholds\n",
    "    prec = []\n",
    "    if print_table:\n",
    "        print(\"Thresh\\tTP\\tFP\\tFN\\tPrec.\")\n",
    "    for t in np.arange(0.5, 1.0, 0.05):\n",
    "        tp, fp, fn = precision_at(t, iou)\n",
    "        if (tp + fp + fn) > 0:\n",
    "            p = tp / (tp + fp + fn)\n",
    "        else:\n",
    "            p = 0\n",
    "        if print_table:\n",
    "            print(\"{:1.3f}\\t{}\\t{}\\t{}\\t{:1.3f}\".format(t, tp, fp, fn, p))\n",
    "        prec.append(p)\n",
    "    \n",
    "    if print_table:\n",
    "        print(\"AP\\t-\\t-\\t-\\t{:1.3f}\".format(np.mean(prec)))\n",
    "    return np.mean(prec)\n",
    "\n",
    "def iou_metric_batch(y_true_in, y_pred_in):\n",
    "    batch_size = y_true_in.shape[0]\n",
    "    metric = []\n",
    "    for batch in range(batch_size):\n",
    "        value = iou_metric(y_true_in[batch], y_pred_in[batch])\n",
    "        metric.append(value)\n",
    "    return np.array(np.mean(metric), dtype=np.float32)\n",
    "\n",
    "def my_iou_metric(label, pred):\n",
    "    metric_value = tf.py_func(iou_metric_batch, [label, pred], tf.float32)\n",
    "    return metric_value"
   ]
  },
  {
   "cell_type": "code",
   "execution_count": null,
   "metadata": {
    "_cell_guid": "eaa88b73-db1f-4781-8f0d-ef1f9d6d52d6",
    "_uuid": "b8df000f960a732c8acd25e4cb0b1ecfe28ea0a4",
    "collapsed": true
   },
   "outputs": [],
   "source": [
    "# Build U-Net model\n",
    "inputs = Input((128, 128, 4))\n",
    "s = inputs\n",
    "\n",
    "c1 = Conv2D(16, (3, 3), activation='elu', kernel_initializer='he_normal', padding='same') (s)\n",
    "c1 = Dropout(0.1) (c1)\n",
    "c1 = Conv2D(16, (3, 3), activation='elu', kernel_initializer='he_normal', padding='same') (c1)\n",
    "p1 = MaxPooling2D((2, 2)) (c1)\n",
    "\n",
    "c2 = Conv2D(32, (3, 3), activation='elu', kernel_initializer='he_normal', padding='same') (p1)\n",
    "c2 = Dropout(0.1) (c2)\n",
    "c2 = Conv2D(32, (3, 3), activation='elu', kernel_initializer='he_normal', padding='same') (c2)\n",
    "p2 = MaxPooling2D((2, 2)) (c2)\n",
    "\n",
    "c3 = Conv2D(64, (3, 3), activation='elu', kernel_initializer='he_normal', padding='same') (p2)\n",
    "c3 = Dropout(0.2) (c3)\n",
    "c3 = Conv2D(64, (3, 3), activation='elu', kernel_initializer='he_normal', padding='same') (c3)\n",
    "p3 = MaxPooling2D((2, 2)) (c3)\n",
    "\n",
    "c4 = Conv2D(128, (3, 3), activation='elu', kernel_initializer='he_normal', padding='same') (p3)\n",
    "c4 = Dropout(0.2) (c4)\n",
    "c4 = Conv2D(128, (3, 3), activation='elu', kernel_initializer='he_normal', padding='same') (c4)\n",
    "p4 = MaxPooling2D(pool_size=(2, 2)) (c4)\n",
    "\n",
    "c5 = Conv2D(256, (3, 3), activation='elu', kernel_initializer='he_normal', padding='same') (p4)\n",
    "c5 = Dropout(0.3) (c5)\n",
    "c5 = Conv2D(256, (3, 3), activation='elu', kernel_initializer='he_normal', padding='same') (c5)\n",
    "\n",
    "u6 = Conv2DTranspose(128, (2, 2), strides=(2, 2), padding='same') (c5)\n",
    "u6 = concatenate([u6, c4])\n",
    "c6 = Conv2D(128, (3, 3), activation='elu', kernel_initializer='he_normal', padding='same') (u6)\n",
    "c6 = Dropout(0.2) (c6)\n",
    "c6 = Conv2D(128, (3, 3), activation='elu', kernel_initializer='he_normal', padding='same') (c6)\n",
    "\n",
    "u7 = Conv2DTranspose(64, (2, 2), strides=(2, 2), padding='same') (c6)\n",
    "u7 = concatenate([u7, c3])\n",
    "c7 = Conv2D(64, (3, 3), activation='elu', kernel_initializer='he_normal', padding='same') (u7)\n",
    "c7 = Dropout(0.2) (c7)\n",
    "c7 = Conv2D(64, (3, 3), activation='elu', kernel_initializer='he_normal', padding='same') (c7)\n",
    "\n",
    "u8 = Conv2DTranspose(32, (2, 2), strides=(2, 2), padding='same') (c7)\n",
    "u8 = concatenate([u8, c2])\n",
    "c8 = Conv2D(32, (3, 3), activation='elu', kernel_initializer='he_normal', padding='same') (u8)\n",
    "c8 = Dropout(0.1) (c8)\n",
    "c8 = Conv2D(32, (3, 3), activation='elu', kernel_initializer='he_normal', padding='same') (c8)\n",
    "\n",
    "u9 = Conv2DTranspose(16, (2, 2), strides=(2, 2), padding='same') (c8)\n",
    "u9 = concatenate([u9, c1], axis=3)\n",
    "c9 = Conv2D(16, (3, 3), activation='elu', kernel_initializer='he_normal', padding='same') (u9)\n",
    "c9 = Dropout(0.1) (c9)\n",
    "c9 = Conv2D(16, (3, 3), activation='elu', kernel_initializer='he_normal', padding='same') (c9)\n",
    "\n",
    "outputs = Conv2D(1, (1, 1), activation='sigmoid') (c9)\n",
    "\n",
    "model = Model(inputs=[inputs], outputs=[outputs])\n",
    "model.compile(optimizer='adam', loss='binary_crossentropy', metrics=[my_iou_metric])\n",
    "model.summary()"
   ]
  },
  {
   "cell_type": "code",
   "execution_count": null,
   "metadata": {
    "_cell_guid": "47019e95-32c3-4087-9fff-63690919fe0a",
    "_uuid": "eedc81210cf8a0f0e84d4936fefb37d26e1f28c0",
    "collapsed": true
   },
   "outputs": [],
   "source": [
    "earlystopper = EarlyStopping(monitor = 'val_loss',patience=5, verbose=1)"
   ]
  },
  {
   "cell_type": "code",
   "execution_count": null,
   "metadata": {
    "_cell_guid": "309b037a-da5d-4cb0-9ffc-ff93e9c10bbe",
    "_uuid": "e8245b9c2e26877ef7b692cd41a99507abd40447",
    "collapsed": true
   },
   "outputs": [],
   "source": [
    "checkpointer = ModelCheckpoint('model-dsbowl2018-1.h5', monitor = 'val_loss',verbose=1, save_best_only=True)"
   ]
  },
  {
   "cell_type": "code",
   "execution_count": null,
   "metadata": {
    "_cell_guid": "1920d7a0-331c-47a8-86ab-1301c2c4eeee",
    "_uuid": "bfe6cfba5f3fa47c983c0e2d022b27ec88c42ce4",
    "collapsed": true
   },
   "outputs": [],
   "source": [
    "results = model.fit(final_images, label_masks, validation_split=0.1, batch_size=16, epochs=10 ,callbacks=[earlystopper,checkpointer])"
   ]
  },
  {
   "cell_type": "code",
   "execution_count": null,
   "metadata": {
    "_cell_guid": "dd6a8446-d857-4144-aa7d-40f3f62925c3",
    "_uuid": "716c1895d86e3c049503a4d6f6b3c69c668d64c4",
    "collapsed": true
   },
   "outputs": [],
   "source": []
  },
  {
   "cell_type": "code",
   "execution_count": null,
   "metadata": {
    "_cell_guid": "0d1bb811-e0dc-4282-bef1-155523d26114",
    "_uuid": "319456b47d26e23d7fd961a2daae4d28543c21c3",
    "collapsed": true
   },
   "outputs": [],
   "source": [
    "#reading test set\n",
    "test_dir = os.listdir(\"../input/stage1_test\")"
   ]
  },
  {
   "cell_type": "code",
   "execution_count": null,
   "metadata": {
    "_cell_guid": "c5acd4f3-9121-4ef2-986e-dfbaefbb6b90",
    "_uuid": "16a89cfeaaf5e5d0c77062a71c689b6bd21c6481",
    "collapsed": true
   },
   "outputs": [],
   "source": [
    "test_images = []\n",
    "size_test = []\n",
    "for dirs in test_dir:\n",
    "    test_images.append(plt.imread(\"../input/stage1_test/\"+ dirs + \"/\" + \"images\"+\"/\"+os.listdir(\"../input/stage1_test/\"+ dirs + \"/\" + \"images\")[0]))\n",
    "for i in range(len(test_images)):\n",
    "    size_test.append([test_images[i].shape[0], test_images[i].shape[1]])\n",
    "    test_images[i] = resize(test_images[i] , (128,128,4))\n",
    "    "
   ]
  },
  {
   "cell_type": "code",
   "execution_count": null,
   "metadata": {
    "_cell_guid": "97665bd2-6333-4b16-8bf1-43030c23c74e",
    "_uuid": "685442737629c74d5e1d98ea64a7d00f96e286a6",
    "collapsed": true
   },
   "outputs": [],
   "source": [
    "test_images = np.array(test_images)\n",
    "test_images = np.stack(test_images)\n",
    "print(test_images.shape)"
   ]
  },
  {
   "cell_type": "code",
   "execution_count": null,
   "metadata": {
    "_cell_guid": "3471ffb9-9b47-4ed7-8446-ac47fedf0b19",
    "_uuid": "fc8b9188dd5ab0f0fc12ad1b8ae1e4088b09664b",
    "collapsed": true
   },
   "outputs": [],
   "source": [
    "prediction = model.predict(test_images)"
   ]
  },
  {
   "cell_type": "code",
   "execution_count": null,
   "metadata": {
    "_cell_guid": "8ea8cf62-6162-4af7-bfec-fe56ec1beae6",
    "_uuid": "b6569dfabc81085d4643995b39a03ff874ba3f98",
    "collapsed": true
   },
   "outputs": [],
   "source": [
    "prediction[prediction >= 0.5] = 1\n",
    "prediction[prediction < 0.5] = 0"
   ]
  },
  {
   "cell_type": "code",
   "execution_count": null,
   "metadata": {
    "_cell_guid": "3dc218b8-9952-4b02-a52a-74cf8998c7cf",
    "_uuid": "65343136089194d882bfcd000c0a0e530ba9e4ea",
    "collapsed": true
   },
   "outputs": [],
   "source": [
    "plt.imshow(np.squeeze(prediction[0]))"
   ]
  },
  {
   "cell_type": "code",
   "execution_count": null,
   "metadata": {
    "_cell_guid": "1e20fe21-11b8-498d-9ab0-e7084ef82ca9",
    "_uuid": "0c98fb75b79d5252a981324439833cc6e9c05505",
    "collapsed": true
   },
   "outputs": [],
   "source": [
    "plt.imshow(np.squeeze(label_masks[1]))"
   ]
  },
  {
   "cell_type": "code",
   "execution_count": null,
   "metadata": {
    "_cell_guid": "02099a50-2ad6-48a9-b3c8-47ded9576518",
    "_uuid": "d16a0828a6981e0b119be625eb88ebc7fd4f7277",
    "collapsed": true
   },
   "outputs": [],
   "source": [
    "preds_test_upsampled = []\n",
    "for i in range(len(prediction)):\n",
    "    preds_test_upsampled.append(resize(np.squeeze(prediction[i]), \n",
    "                                       (size_test[i][0], size_test[i][1]), \n",
    "                                       mode='constant', preserve_range=True))"
   ]
  },
  {
   "cell_type": "code",
   "execution_count": null,
   "metadata": {
    "_cell_guid": "890df390-18ee-4090-8417-aa58a0c68d11",
    "_uuid": "094177a38b4459151a026b6ba6995b64d9a518ca",
    "collapsed": true
   },
   "outputs": [],
   "source": [
    "np.unique(prediction[1])"
   ]
  },
  {
   "cell_type": "code",
   "execution_count": null,
   "metadata": {
    "_cell_guid": "a949c60d-fea2-4fba-afda-ab2e3fe3923d",
    "_uuid": "7d6d08b3a05105548ecb2bdb0f3771070aa240af",
    "collapsed": true
   },
   "outputs": [],
   "source": [
    "preds_test_upsampled[1].shape"
   ]
  },
  {
   "cell_type": "code",
   "execution_count": null,
   "metadata": {
    "_cell_guid": "4be0ba50-5751-430f-b166-822ef3417122",
    "_uuid": "271a7342ffe058d25b6e6ede9c8722a53ad736d5",
    "collapsed": true
   },
   "outputs": [],
   "source": [
    "preds_test_upsampled[preds_test_upsampled >= 0.5] = 1\n",
    "preds_test_upsampled[preds_test_upsampled < 0.5] = 0"
   ]
  },
  {
   "cell_type": "code",
   "execution_count": null,
   "metadata": {
    "_cell_guid": "46ebbebe-d634-4ddd-92e9-920badfc97ff",
    "_uuid": "4c5ccf48252e990f4ea5e3268f9d42d2f0c0a382",
    "collapsed": true
   },
   "outputs": [],
   "source": [
    "\n",
    "    "
   ]
  },
  {
   "cell_type": "code",
   "execution_count": null,
   "metadata": {
    "_cell_guid": "3fcd5370-86d9-46a7-87ea-4924f726e07a",
    "_uuid": "4f255089f1f4d96721406d674a6677f0a2989bd7",
    "collapsed": true
   },
   "outputs": [],
   "source": [
    "plt.imshow(np.squeeze(prediction[1]))"
   ]
  },
  {
   "cell_type": "code",
   "execution_count": null,
   "metadata": {
    "_cell_guid": "2b3fe2e4-c298-465b-9f1d-1ea923b57a8c",
    "_uuid": "9d92bed6ec6d8844bf43e3e8d07c8c5d4d2688e6",
    "collapsed": true
   },
   "outputs": [],
   "source": [
    "plt.imshow(np.squeeze(preds_test_upsampled[1]))"
   ]
  },
  {
   "cell_type": "code",
   "execution_count": null,
   "metadata": {
    "_cell_guid": "2116149e-82ed-42e4-92e2-abd41e2cab7e",
    "_uuid": "bc0b1a0dd681d7be58228d8c61fafe7d21c4cd3f",
    "collapsed": true
   },
   "outputs": [],
   "source": [
    "for i in range(len(preds_test_upsampled)):\n",
    "    preds_test_upsampled[i][preds_test_upsampled[i] > 0.5] = 1\n",
    "    preds_test_upsampled[i][preds_test_upsampled[i] <= 0.5] = 0"
   ]
  },
  {
   "cell_type": "code",
   "execution_count": null,
   "metadata": {
    "_cell_guid": "62b812ea-fb8e-43e9-947d-6763d0ce64ec",
    "_uuid": "e1db05b6e5792279f6c94389868813fb9786aa72",
    "collapsed": true
   },
   "outputs": [],
   "source": [
    "# Run-length encoding stolen from https://www.kaggle.com/rakhlin/fast-run-length-encoding-python\n",
    "def rle_encoding(x):\n",
    "    dots = np.where(x.T.flatten() == 1)[0]\n",
    "    run_lengths = []\n",
    "    prev = -2\n",
    "    for b in dots:\n",
    "        if (b>prev+1): run_lengths.extend((b + 1, 0))\n",
    "        run_lengths[-1] += 1\n",
    "        prev = b\n",
    "    return run_lengths\n",
    "\n",
    "def prob_to_rles(x, cutoff=0.5):\n",
    "    lab_img = label(x > cutoff)\n",
    "    for i in range(1, lab_img.max() + 1):\n",
    "        yield rle_encoding(lab_img == i)"
   ]
  },
  {
   "cell_type": "code",
   "execution_count": null,
   "metadata": {
    "_cell_guid": "20f535ac-cb9d-458e-93b5-55b8311660a2",
    "_uuid": "5b1e518238ab02ed40473d340b7c621d4a2f6f04",
    "collapsed": true
   },
   "outputs": [],
   "source": [
    "list(rle_encoding(preds_test_upsampled[0]))"
   ]
  },
  {
   "cell_type": "code",
   "execution_count": null,
   "metadata": {
    "_cell_guid": "ed58e105-b4b2-4d13-8fdf-3089dcc692b0",
    "_uuid": "83888bedda6c74aa80e240e09833b50c158a5b0e",
    "collapsed": true
   },
   "outputs": [],
   "source": [
    "new_test_ids = []\n",
    "rles = []\n",
    "for n, id_ in enumerate(test_dir):\n",
    "    rle = list(prob_to_rles(preds_test_upsampled[n]))\n",
    "    rles.extend(rle)\n",
    "    new_test_ids.extend([id_] * len(rle))"
   ]
  },
  {
   "cell_type": "code",
   "execution_count": null,
   "metadata": {
    "_cell_guid": "4b3ccd3f-1ddc-44c8-afec-eef4646c6d1c",
    "_uuid": "82680ecd653e98d93ffe2e5311e7fc3e8cddb812",
    "collapsed": true
   },
   "outputs": [],
   "source": [
    "len(np.unique(new_test_ids))"
   ]
  },
  {
   "cell_type": "code",
   "execution_count": null,
   "metadata": {
    "_cell_guid": "4b2b4cbd-aec6-4e9c-a3d1-71978094121d",
    "_uuid": "55be3199965a5fff58141c54720ee08056271019",
    "collapsed": true
   },
   "outputs": [],
   "source": [
    "sub = pd.DataFrame()\n",
    "sub['ImageId'] = new_test_ids\n",
    "sub['EncodedPixels'] = pd.Series(rles).apply(lambda x: ' '.join(str(y) for y in x))\n",
    "sub.to_csv('submit_final.csv', index=False)"
   ]
  },
  {
   "cell_type": "code",
   "execution_count": null,
   "metadata": {
    "_cell_guid": "794a4563-5f96-4ea0-8056-12b1f08d9bf9",
    "_uuid": "f132f004059a2cfe55980b5a17989d289314ebda",
    "collapsed": true
   },
   "outputs": [],
   "source": [
    "sub"
   ]
  },
  {
   "cell_type": "code",
   "execution_count": null,
   "metadata": {
    "_cell_guid": "1a49723c-471e-44a8-a354-a0bc1f10355b",
    "_uuid": "14aca449bbd53c9fb8a92ea2020a452ac0bdd88a",
    "collapsed": true
   },
   "outputs": [],
   "source": []
  },
  {
   "cell_type": "code",
   "execution_count": null,
   "metadata": {
    "_cell_guid": "061ce114-7ae8-4260-bbf9-e62048def5dd",
    "_uuid": "4215280a9d2a330e34b74bcb824466314d93d4a6",
    "collapsed": true
   },
   "outputs": [],
   "source": []
  }
 ],
 "metadata": {
  "kernelspec": {
   "display_name": "Python [default]",
   "language": "python",
   "name": "python3"
  },
  "language_info": {
   "codemirror_mode": {
    "name": "ipython",
    "version": 3
   },
   "file_extension": ".py",
   "mimetype": "text/x-python",
   "name": "python",
   "nbconvert_exporter": "python",
   "pygments_lexer": "ipython3",
   "version": "3.6.2"
  }
 },
 "nbformat": 4,
 "nbformat_minor": 1
}
